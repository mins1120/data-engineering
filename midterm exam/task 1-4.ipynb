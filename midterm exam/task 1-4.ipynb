{
 "cells": [
  {
   "cell_type": "code",
   "execution_count": 6,
   "id": "feb4e94a-cde5-4188-8d31-1a3a9bad4d7e",
   "metadata": {
    "tags": []
   },
   "outputs": [],
   "source": [
    "def get_my_chosun_name(family_name, month, day):\n",
    "    month_name = ['쌍', '쇠', '복', '돌', '팽', '육', '쌍', '개', '칠', '갑', '삼', '방']\n",
    "    day_name = ['봉', '구', '욕', '포', '똥', '삼', '식', '석', '놈', '님', '년', '돌', '단', '득', '방', '질', '장', '걸', '래', '룡', '동', '순', '자', '박', '창', '언', '것', '포', '만', '단', '국']\n",
    "    chosun_name = family_name + month_name[month-1] + day_name[day-1]\n",
    "    return chosun_name"
   ]
  },
  {
   "cell_type": "code",
   "execution_count": 7,
   "id": "5a22d3e5-8fdf-4074-a117-94a19fdbe8b5",
   "metadata": {
    "tags": []
   },
   "outputs": [
    {
     "name": "stdout",
     "output_type": "stream",
     "text": [
      "당신의 조선시대 이름은 안칠걸 입니다.\n"
     ]
    }
   ],
   "source": [
    "print(\"당신의 조선시대 이름은 \" + get_my_chosun_name('안', 9, 18) + \" 입니다.\")"
   ]
  },
  {
   "cell_type": "code",
   "execution_count": null,
   "id": "19eefbad-5ee2-4e50-9bd7-def41c9ba80d",
   "metadata": {},
   "outputs": [],
   "source": []
  }
 ],
 "metadata": {
  "kernelspec": {
   "display_name": "Python 3 (ipykernel)",
   "language": "python",
   "name": "python3"
  },
  "language_info": {
   "codemirror_mode": {
    "name": "ipython",
    "version": 3
   },
   "file_extension": ".py",
   "mimetype": "text/x-python",
   "name": "python",
   "nbconvert_exporter": "python",
   "pygments_lexer": "ipython3",
   "version": "3.11.4"
  }
 },
 "nbformat": 4,
 "nbformat_minor": 5
}
