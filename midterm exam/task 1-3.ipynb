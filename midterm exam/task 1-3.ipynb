{
 "cells": [
  {
   "cell_type": "code",
   "execution_count": 39,
   "id": "e26663cc-4f9f-4f40-becb-55b4b513bdbd",
   "metadata": {
    "tags": []
   },
   "outputs": [],
   "source": [
    "hairstyles = [\"bouffant\", \"pixie\", \"dreadlocks\", \"crew\", \"bowl\", \"bob\", \"mohawk\", \"flattop\"]\n",
    "prices = [30, 25, 40, 20, 20, 35, 50, 35]\n",
    "last_week = [2, 3, 5, 8, 4, 4, 6, 2]"
   ]
  },
  {
   "cell_type": "code",
   "execution_count": 40,
   "id": "b75c6cf2-c5f6-4781-a5d7-c61db8a41804",
   "metadata": {
    "tags": []
   },
   "outputs": [],
   "source": [
    "total_price = 0"
   ]
  },
  {
   "cell_type": "code",
   "execution_count": 41,
   "id": "c60ec1ea-220b-4db1-9eb9-dcade5770c87",
   "metadata": {
    "tags": []
   },
   "outputs": [],
   "source": [
    "for price in prices:\n",
    "    total_price += price"
   ]
  },
  {
   "cell_type": "code",
   "execution_count": 42,
   "id": "e063e5cb-6836-4141-acbd-a5fc21c10b1d",
   "metadata": {
    "tags": []
   },
   "outputs": [],
   "source": [
    "average_price = total_price/len(prices)"
   ]
  },
  {
   "cell_type": "code",
   "execution_count": 43,
   "id": "86f5c651-b41a-4668-a910-5c7ab6dd1755",
   "metadata": {
    "tags": []
   },
   "outputs": [
    {
     "name": "stdout",
     "output_type": "stream",
     "text": [
      "Average price is 31.875\n"
     ]
    }
   ],
   "source": [
    "print(\"Average price is \" + str(average_price))"
   ]
  },
  {
   "cell_type": "code",
   "execution_count": 44,
   "id": "31a2d0a0-242e-4ba9-9696-529196187664",
   "metadata": {
    "tags": []
   },
   "outputs": [],
   "source": [
    "new_prices = [price - 5 for price in prices]"
   ]
  },
  {
   "cell_type": "code",
   "execution_count": 45,
   "id": "493afc70-97b9-45d2-9f85-6299508dd8c2",
   "metadata": {
    "tags": []
   },
   "outputs": [
    {
     "name": "stdout",
     "output_type": "stream",
     "text": [
      "[25, 20, 35, 15, 15, 30, 45, 30]\n"
     ]
    }
   ],
   "source": [
    "print(new_prices)"
   ]
  },
  {
   "cell_type": "code",
   "execution_count": 46,
   "id": "4bed4618-8241-4bf3-a95b-f8dca10111d9",
   "metadata": {
    "tags": []
   },
   "outputs": [],
   "source": [
    "total_revenue = 0"
   ]
  },
  {
   "cell_type": "code",
   "execution_count": 47,
   "id": "ce5e899c-03ba-4d9f-ae18-2fa7f911e7d7",
   "metadata": {
    "tags": []
   },
   "outputs": [
    {
     "name": "stdout",
     "output_type": "stream",
     "text": [
      "1085\n"
     ]
    }
   ],
   "source": [
    "for i in range(len(hairstyles)):\n",
    "    total_revenue += prices[i] * last_week[i]\n",
    "    \n",
    "print(total_revenue)"
   ]
  },
  {
   "cell_type": "code",
   "execution_count": 48,
   "id": "2f2b6ef4-6ec7-49d9-80b4-a45e0afab3db",
   "metadata": {
    "tags": []
   },
   "outputs": [
    {
     "name": "stdout",
     "output_type": "stream",
     "text": [
      "Average daily revenue is 155.0\n"
     ]
    }
   ],
   "source": [
    "average_daily_revenue = total_revenue / 7\n",
    "\n",
    "print(\"Average daily revenue is \" + str(average_daily_revenue))"
   ]
  },
  {
   "cell_type": "code",
   "execution_count": 54,
   "id": "f76f9175-e108-4bb5-bcce-da556b1fc023",
   "metadata": {
    "tags": []
   },
   "outputs": [],
   "source": [
    "cuts_under_30 = []"
   ]
  },
  {
   "cell_type": "code",
   "execution_count": 55,
   "id": "f83291ec-cd04-4f9f-9213-fa2ee56eaef2",
   "metadata": {
    "tags": []
   },
   "outputs": [],
   "source": [
    "for i in range(len(hairstyles)):\n",
    "    if prices[i] <= 30:\n",
    "        cuts_under_30.append(hairstyles[i])"
   ]
  },
  {
   "cell_type": "code",
   "execution_count": 56,
   "id": "fa88bf9a-8da5-43f2-be2e-d08d0622e6d5",
   "metadata": {
    "tags": []
   },
   "outputs": [
    {
     "name": "stdout",
     "output_type": "stream",
     "text": [
      "['bouffant', 'pixie', 'crew', 'bowl']\n"
     ]
    }
   ],
   "source": [
    "print(cuts_under_30)"
   ]
  },
  {
   "cell_type": "code",
   "execution_count": null,
   "id": "087bdc38-98e6-485b-9d3e-9ffed85c27b4",
   "metadata": {},
   "outputs": [],
   "source": []
  }
 ],
 "metadata": {
  "kernelspec": {
   "display_name": "Python 3 (ipykernel)",
   "language": "python",
   "name": "python3"
  },
  "language_info": {
   "codemirror_mode": {
    "name": "ipython",
    "version": 3
   },
   "file_extension": ".py",
   "mimetype": "text/x-python",
   "name": "python",
   "nbconvert_exporter": "python",
   "pygments_lexer": "ipython3",
   "version": "3.11.4"
  }
 },
 "nbformat": 4,
 "nbformat_minor": 5
}
