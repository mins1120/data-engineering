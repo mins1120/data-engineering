{
 "cells": [
  {
   "cell_type": "code",
   "execution_count": 35,
   "id": "e46c4339-70c2-4f04-8160-f29ecfe74c54",
   "metadata": {
    "tags": []
   },
   "outputs": [],
   "source": [
    "subjects = [\"physics\", \"calculus\", \"poetry\", \"history\"]\n",
    "grades = [98, 97, 85, 88]"
   ]
  },
  {
   "cell_type": "code",
   "execution_count": 36,
   "id": "868f00f4-fb79-4fa3-a237-aa36b34d9b38",
   "metadata": {
    "tags": []
   },
   "outputs": [],
   "source": [
    "gradebook = [[subjects[i], grades[i]] for i in range(len(subjects))]"
   ]
  },
  {
   "cell_type": "code",
   "execution_count": 37,
   "id": "46ccaf9b-0dc0-4f70-bde4-b85638acf1b6",
   "metadata": {
    "tags": []
   },
   "outputs": [
    {
     "name": "stdout",
     "output_type": "stream",
     "text": [
      "[['physics', 98], ['calculus', 97], ['poetry', 85], ['history', 88]]\n"
     ]
    }
   ],
   "source": [
    "print(gradebook)"
   ]
  },
  {
   "cell_type": "code",
   "execution_count": 38,
   "id": "fcf0a3d2-6375-46d9-8f3d-8c06ce2ee922",
   "metadata": {
    "tags": []
   },
   "outputs": [],
   "source": [
    "gradebook.append([\"computer science\", 100])\n",
    "gradebook.append([\"visual arts\", 93])"
   ]
  },
  {
   "cell_type": "code",
   "execution_count": 39,
   "id": "b184240b-5c7d-4e80-8844-7c894f5eb5e8",
   "metadata": {
    "tags": []
   },
   "outputs": [
    {
     "name": "stdout",
     "output_type": "stream",
     "text": [
      "[['physics', 98], ['calculus', 97], ['poetry', 85], ['history', 88], ['computer science', 100], ['visual arts', 93]]\n"
     ]
    }
   ],
   "source": [
    "print(gradebook)"
   ]
  },
  {
   "cell_type": "code",
   "execution_count": 40,
   "id": "23642554-616c-411f-85c2-8f619060d2ca",
   "metadata": {
    "tags": []
   },
   "outputs": [],
   "source": [
    "gradebook[-1][1] += 5"
   ]
  },
  {
   "cell_type": "code",
   "execution_count": 41,
   "id": "9d94a708-bf8f-4536-916f-c0c6368189f0",
   "metadata": {
    "tags": []
   },
   "outputs": [],
   "source": [
    "gradebook[2].remove(85)"
   ]
  },
  {
   "cell_type": "code",
   "execution_count": 42,
   "id": "8ad2dcac-dfed-40a7-9608-1eeeec535fe2",
   "metadata": {
    "tags": []
   },
   "outputs": [],
   "source": [
    "gradebook[2].append(\"Pass\")"
   ]
  },
  {
   "cell_type": "code",
   "execution_count": 43,
   "id": "362a9d3e-cb5b-49a3-ba09-b436e72805d0",
   "metadata": {
    "tags": []
   },
   "outputs": [],
   "source": [
    "last_semester_gradebook = [[\"politics\", 80], [\"latin\", 96], [\"dance\", 97], [\"architecture\", 65]]"
   ]
  },
  {
   "cell_type": "code",
   "execution_count": 44,
   "id": "8362ee2b-e18c-4caf-90d8-999ac3352603",
   "metadata": {
    "tags": []
   },
   "outputs": [
    {
     "name": "stdout",
     "output_type": "stream",
     "text": [
      "[['politics', 80], ['latin', 96], ['dance', 97], ['architecture', 65], ['physics', 98], ['calculus', 97], ['poetry', 'Pass'], ['history', 88], ['computer science', 100], ['visual arts', 98]]\n"
     ]
    }
   ],
   "source": [
    "full_gradebook = last_semester_gradebook + gradebook\n",
    "print(full_gradebook)"
   ]
  },
  {
   "cell_type": "code",
   "execution_count": null,
   "id": "ebd797f9-9fef-42a8-8f41-bc6dac3a9ee8",
   "metadata": {},
   "outputs": [],
   "source": []
  }
 ],
 "metadata": {
  "kernelspec": {
   "display_name": "Python 3 (ipykernel)",
   "language": "python",
   "name": "python3"
  },
  "language_info": {
   "codemirror_mode": {
    "name": "ipython",
    "version": 3
   },
   "file_extension": ".py",
   "mimetype": "text/x-python",
   "name": "python",
   "nbconvert_exporter": "python",
   "pygments_lexer": "ipython3",
   "version": "3.11.4"
  }
 },
 "nbformat": 4,
 "nbformat_minor": 5
}
