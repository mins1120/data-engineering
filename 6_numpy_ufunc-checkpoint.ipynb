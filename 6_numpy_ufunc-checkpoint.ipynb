{
 "cells": [
  {
   "cell_type": "markdown",
   "metadata": {},
   "source": [
    "## <strong>6. NumPy: Universal Functions (UFunc)</strong>"
   ]
  },
  {
   "cell_type": "code",
   "execution_count": 9,
   "metadata": {
    "tags": []
   },
   "outputs": [],
   "source": [
    "import numpy as np"
   ]
  },
  {
   "cell_type": "code",
   "execution_count": 10,
   "metadata": {
    "tags": []
   },
   "outputs": [
    {
     "name": "stdout",
     "output_type": "stream",
     "text": [
      "[3 4 5 9 4]\n",
      "[0.33333333 0.25       0.2        0.11111111 0.25      ]\n"
     ]
    }
   ],
   "source": [
    "# 역수 계산 함수\n",
    "def compute_reciprocals(values):\n",
    "    output = np.empty(len(values))\n",
    "    for i in range(len(values)):\n",
    "        output[i] = 1.0 / values[i]\n",
    "    return output\n",
    "\n",
    "# 함수 테스트\n",
    "values = np.random.randint(1, 10, size=5)\n",
    "print(values)\n",
    "print(compute_reciprocals(values))"
   ]
  },
  {
   "cell_type": "markdown",
   "metadata": {},
   "source": [
    "#### <strong>역수 계산: Python loop vs NumPy ufuncs</strong>\n",
    "+ ```%timeit```: 셀 단위 코드 실행 시간을 측정하는 매직 함수"
   ]
  },
  {
   "cell_type": "code",
   "execution_count": 11,
   "metadata": {
    "tags": []
   },
   "outputs": [
    {
     "data": {
      "text/plain": [
       "array([83, 10, 38, ..., 49, 69, 81])"
      ]
     },
     "execution_count": 11,
     "metadata": {},
     "output_type": "execute_result"
    }
   ],
   "source": [
    "# [+] 백만 개 크기의 난수 배열 생성: 정수, 값 범위 [1, 100)\n",
    "big_array = np.random.randint(1, 100, size=1000000)\n",
    "\n",
    "big_array"
   ]
  },
  {
   "cell_type": "code",
   "execution_count": 12,
   "metadata": {
    "tags": []
   },
   "outputs": [
    {
     "name": "stdout",
     "output_type": "stream",
     "text": [
      "2.16 s ± 378 ms per loop (mean ± std. dev. of 7 runs, 1 loop each)\n"
     ]
    }
   ],
   "source": [
    "%%timeit\n",
    "\n",
    "# [+] Python loop를 통한 역수 계compute_reciprocals(big_array)산 \n",
    "compute_reciprocals(big_array)"
   ]
  },
  {
   "cell_type": "code",
   "execution_count": 13,
   "metadata": {
    "tags": []
   },
   "outputs": [
    {
     "name": "stdout",
     "output_type": "stream",
     "text": [
      "3.03 ms ± 60.5 µs per loop (mean ± std. dev. of 7 runs, 100 loops each)\n"
     ]
    }
   ],
   "source": [
    "%%timeit\n",
    "\n",
    "# [+] NumPy ufunc을 통한 벡터화된 역수 계산\n",
    "3.0 / big_array"
   ]
  },
  {
   "cell_type": "markdown",
   "metadata": {},
   "source": [
    "#### <strong>유니버설 함수들</strong>"
   ]
  },
  {
   "cell_type": "code",
   "execution_count": 14,
   "metadata": {},
   "outputs": [
    {
     "name": "stdout",
     "output_type": "stream",
     "text": [
      "[5 8 9 5 0] [0 1 7 6 9]\n"
     ]
    }
   ],
   "source": [
    "# 난수 배열 2개 생성\n",
    "np.random.seed(1)\n",
    "arr1 = np.random.randint(10, size=5)\n",
    "arr2 = np.random.randint(10, size=5)\n",
    "\n",
    "print(arr1, arr2)"
   ]
  },
  {
   "cell_type": "code",
   "execution_count": 15,
   "metadata": {},
   "outputs": [
    {
     "name": "stdout",
     "output_type": "stream",
     "text": [
      "[ 3  6  7  3 -2]\n"
     ]
    }
   ],
   "source": [
    "# 배열-스칼라 연산\n",
    "arr1 = arr1 - 2\n",
    "print(arr1)"
   ]
  },
  {
   "cell_type": "code",
   "execution_count": 16,
   "metadata": {},
   "outputs": [
    {
     "name": "stdout",
     "output_type": "stream",
     "text": [
      "[ 3  7 14  9  7]\n"
     ]
    }
   ],
   "source": [
    "# 배열-배열 연산\n",
    "arr3 = arr1 + arr2\n",
    "print(arr3)"
   ]
  },
  {
   "cell_type": "code",
   "execution_count": 17,
   "metadata": {},
   "outputs": [
    {
     "name": "stdout",
     "output_type": "stream",
     "text": [
      "[[2 4 5 2 4]\n",
      " [2 4 7 7 9]\n",
      " [1 7 0 6 9]]\n",
      "[[ 4 16 25  4 16]\n",
      " [ 4 16 49 49 81]\n",
      " [ 1 49  0 36 81]]\n"
     ]
    }
   ],
   "source": [
    "# 다차원 배열 연산: 2차원 배열 ** 스칼라\n",
    "arr4 = np.random.randint(10, size=(3, 5))\n",
    "print(arr4)\n",
    "\n",
    "arr5 = arr4 ** 2\n",
    "print(arr5)"
   ]
  },
  {
   "cell_type": "code",
   "execution_count": 18,
   "metadata": {},
   "outputs": [
    {
     "name": "stdout",
     "output_type": "stream",
     "text": [
      "x     = [0 1 2 3]\n",
      "x + 5 = [5 6 7 8]\n",
      "x - 5 = [-5 -4 -3 -2]\n",
      "x * 2 = [0 2 4 6]\n",
      "x / 2 = [0.  0.5 1.  1.5]\n",
      "x ** 2 = [0 1 4 9]\n",
      "x + 5 = [5 6 7 8]\n",
      "x - 5 = [-5 -4 -3 -2]\n",
      "x * 2 = [0 2 4 6]\n",
      "x / 2 = [0.  0.5 1.  1.5]\n",
      "x ** 2 = [0 1 4 9]\n"
     ]
    }
   ],
   "source": [
    "\"\"\"\n",
    "    UFuncs: 산술 연산\n",
    "\"\"\"\n",
    "\n",
    "# 기본 산술 연산\n",
    "x = np.arange(4)\n",
    "print(\"x     =\", x)\n",
    "print(\"x + 5 =\", x + 5)\n",
    "print(\"x - 5 =\", x - 5)\n",
    "print(\"x * 2 =\", x * 2)\n",
    "print(\"x / 2 =\", x / 2)\n",
    "print(\"x ** 2 =\", x ** 2)\n",
    "\n",
    "# [+] 산술 연산에 대응하는 유니버설 함수\n",
    "print(\"x + 5 =\", np.add(x, 5))\n",
    "print(\"x - 5 =\", np.subtract(x, 5))\n",
    "print(\"x * 2 =\", np.multiply(x, 2))\n",
    "print(\"x / 2 =\", np.divide(x, 2))\n",
    "print(\"x ** 2 =\", np.power(x, 2))\n"
   ]
  },
  {
   "cell_type": "code",
   "execution_count": 19,
   "metadata": {},
   "outputs": [
    {
     "data": {
      "text/plain": [
       "array([2, 1, 0, 1, 2])"
      ]
     },
     "execution_count": 19,
     "metadata": {},
     "output_type": "execute_result"
    }
   ],
   "source": [
    "\"\"\"\n",
    "    UFuncs: 절댓값 계산\n",
    "\"\"\"\n",
    "\n",
    "# [+] 절댓값 함수\n",
    "x = np.array([-2, -1, 0, 1, 2])\n",
    "abs_values = np.abs(x)\n",
    "abs_values"
   ]
  },
  {
   "cell_type": "code",
   "execution_count": 20,
   "metadata": {},
   "outputs": [
    {
     "data": {
      "text/plain": [
       "array([  0.,  25.,  50.,  75., 100.])"
      ]
     },
     "execution_count": 20,
     "metadata": {},
     "output_type": "execute_result"
    }
   ],
   "source": [
    "\"\"\"\n",
    "    np.linspace(start, stop, num): 선형 간격 벡터 생성\n",
    "        - start: 벡터의 시작 값\n",
    "        - end: 벡터의 종료 값\n",
    "        - num: 생성할 값의 개수\n",
    "\"\"\"\n",
    "\n",
    "# [+][0, 100]의 범위를 가지며, 균일한 간격의 5개의 값들로 구성되는 벡터를 생성\n",
    "x = np.linspace(0, 100, 5)\n",
    "x"
   ]
  },
  {
   "cell_type": "code",
   "execution_count": 21,
   "metadata": {},
   "outputs": [
    {
     "data": {
      "text/plain": [
       "array([  0.,  10.,  20.,  30.,  40.,  50.,  60.,  70.,  80.,  90., 100.])"
      ]
     },
     "execution_count": 21,
     "metadata": {},
     "output_type": "execute_result"
    }
   ],
   "source": [
    "# [+] [0, 100]의 범위를 가지며, [0, 10, 20, 30, ..., 100]와\n",
    "# 같은 값들로 구성되는 벡터를 생성\n",
    "x = np.linspace(0, 100, 11)\n",
    "x"
   ]
  },
  {
   "cell_type": "code",
   "execution_count": 22,
   "metadata": {},
   "outputs": [
    {
     "name": "stdout",
     "output_type": "stream",
     "text": [
      "[0.         1.57079633 3.14159265]\n",
      "[0.0000000e+00 1.0000000e+00 1.2246468e-16]\n",
      "[ 1.000000e+00  6.123234e-17 -1.000000e+00]\n",
      "[ 0.00000000e+00  1.63312394e+16 -1.22464680e-16]\n"
     ]
    }
   ],
   "source": [
    "# 삼각함수(trigonometric functions)\n",
    "theta = np.linspace(0, np.pi, 3)\n",
    "\n",
    "print(theta)\n",
    "print(np.sin(theta))\n",
    "print(np.cos(theta))\n",
    "print(np.tan(theta))"
   ]
  },
  {
   "cell_type": "code",
   "execution_count": 23,
   "metadata": {},
   "outputs": [
    {
     "data": {
      "text/plain": [
       "array([1, 2, 3, 4])"
      ]
     },
     "execution_count": 23,
     "metadata": {},
     "output_type": "execute_result"
    }
   ],
   "source": [
    "\"\"\"\n",
    "    집계 함수: reduce()\n",
    "\"\"\"\n",
    "\n",
    "# 배열 생성\n",
    "x = np.arange(1, 5)\n",
    "x"
   ]
  },
  {
   "cell_type": "code",
   "execution_count": 24,
   "metadata": {},
   "outputs": [
    {
     "data": {
      "text/plain": [
       "10"
      ]
     },
     "execution_count": 24,
     "metadata": {},
     "output_type": "execute_result"
    }
   ],
   "source": [
    "# [+] 덧셈 연산으로 집계\n",
    "aggr = np.add.reduce(x)\n",
    "aggr"
   ]
  },
  {
   "cell_type": "code",
   "execution_count": 25,
   "metadata": {},
   "outputs": [
    {
     "data": {
      "text/plain": [
       "24"
      ]
     },
     "execution_count": 25,
     "metadata": {},
     "output_type": "execute_result"
    }
   ],
   "source": [
    "# [+] 곱셈 연산으로 집계\n",
    "aggr = np.multiply.reduce(x)\n",
    "aggr"
   ]
  },
  {
   "cell_type": "code",
   "execution_count": 26,
   "metadata": {},
   "outputs": [
    {
     "data": {
      "text/plain": [
       "array([ 1,  3,  6, 10])"
      ]
     },
     "execution_count": 26,
     "metadata": {},
     "output_type": "execute_result"
    }
   ],
   "source": [
    "\"\"\"\n",
    "    집계 함수: accumulate()\n",
    "\"\"\"\n",
    "\n",
    "# [+] 덧셈 연산으로 집계\n",
    "accum = np.add.accumulate(x)\n",
    "accum"
   ]
  },
  {
   "cell_type": "code",
   "execution_count": 27,
   "metadata": {},
   "outputs": [
    {
     "data": {
      "text/plain": [
       "array([ 1,  2,  6, 24])"
      ]
     },
     "execution_count": 27,
     "metadata": {},
     "output_type": "execute_result"
    }
   ],
   "source": [
    "# [+] 곱셈 연산으로 집계\n",
    "accum = np.multiply.accumulate(x)\n",
    "accum"
   ]
  },
  {
   "cell_type": "code",
   "execution_count": 28,
   "metadata": {},
   "outputs": [
    {
     "name": "stdout",
     "output_type": "stream",
     "text": [
      "[0.5507979  0.70814782 0.29090474 0.51082761 0.89294695]\n",
      "sum = 2.9536250236509423\n"
     ]
    }
   ],
   "source": [
    "# 집계 함수: sum()\n",
    "np.random.seed(3)\n",
    "arr = np.random.rand(5) # [+] 0~1 사이의 실수 형태의 난수 배열 생성\n",
    "\n",
    "print(arr)\n",
    "print(\"sum =\", np.sum(arr))"
   ]
  },
  {
   "cell_type": "code",
   "execution_count": 29,
   "metadata": {},
   "outputs": [
    {
     "name": "stdout",
     "output_type": "stream",
     "text": [
      "1.45 µs ± 132 ns per loop (mean ± std. dev. of 7 runs, 100,000 loops each)\n"
     ]
    }
   ],
   "source": [
    "# sum(): Python 내장함수\n",
    "%timeit sum(arr)"
   ]
  },
  {
   "cell_type": "code",
   "execution_count": 30,
   "metadata": {},
   "outputs": [
    {
     "name": "stdout",
     "output_type": "stream",
     "text": [
      "6.14 µs ± 1.34 µs per loop (mean ± std. dev. of 7 runs, 100,000 loops each)\n"
     ]
    }
   ],
   "source": [
    "# np.sum()\n",
    "%timeit np.sum(arr) # 1000µs = 1ms"
   ]
  },
  {
   "cell_type": "code",
   "execution_count": 35,
   "metadata": {},
   "outputs": [
    {
     "name": "stdout",
     "output_type": "stream",
     "text": [
      "max = 9\n",
      "min = 0\n",
      "mean = 4.5\n",
      "median = 4.5\n",
      "percentile = 7.0\n",
      "variance = 5.75\n",
      "standard deviation = 2.3979157616563596\n",
      "index of maximum value = 5\n",
      "index of minimum value = 1\n",
      "Is there any number greater than 1? = True\n",
      "Is every number greater than 0? = False\n"
     ]
    }
   ],
   "source": [
    "# [+] 그 외의 집계함수\n",
    "print(\"max =\", np.max(arr))\n",
    "print(\"min =\", np.min(arr))\n",
    "print(\"mean =\", np.mean(arr))\n",
    "print(\"median =\", np.median(arr))\n",
    "print(\"percentile =\", np.percentile(arr, 90))  # median과 동일\n",
    "print(\"variance =\", np.var(arr))\n",
    "print(\"standard deviation =\", np.std(arr))\n",
    "print(\"index of maximum value =\", np.argmax(arr))\n",
    "print(\"index of minimum value =\", np.argmin(arr))\n",
    "print(\"Is there any number greater than 1? =\", np.any(arr > 1))\n",
    "print(\"Is every number greater than 0? =\", np.all(arr > 0))"
   ]
  },
  {
   "cell_type": "code",
   "execution_count": 32,
   "metadata": {},
   "outputs": [
    {
     "data": {
      "text/plain": [
       "array([[5, 0, 3, 3],\n",
       "       [7, 9, 3, 5],\n",
       "       [2, 4, 7, 6]])"
      ]
     },
     "execution_count": 32,
     "metadata": {},
     "output_type": "execute_result"
    }
   ],
   "source": [
    "\"\"\"다차원 집계\"\"\"\n",
    "\n",
    "# 2차원 난수 배열 생성\n",
    "np.random.seed(0)\n",
    "arr = np.random.randint(10, size=(3, 4))\n",
    "arr"
   ]
  },
  {
   "cell_type": "code",
   "execution_count": 36,
   "metadata": {
    "tags": []
   },
   "outputs": [
    {
     "data": {
      "text/plain": [
       "array([14, 13, 13, 14])"
      ]
     },
     "execution_count": 36,
     "metadata": {},
     "output_type": "execute_result"
    }
   ],
   "source": [
    "# [+] 행 방향으로 집계 (row sum)\n",
    "row_sum = np.sum(arr, axis=0)\n",
    "row_sum"
   ]
  },
  {
   "cell_type": "code",
   "execution_count": 37,
   "metadata": {
    "tags": []
   },
   "outputs": [
    {
     "data": {
      "text/plain": [
       "array([11, 24, 19])"
      ]
     },
     "execution_count": 37,
     "metadata": {},
     "output_type": "execute_result"
    }
   ],
   "source": [
    "# [+] 열 방향으로 집계 (column sum)\n",
    "column_sum = np.sum(arr, axis=1)\n",
    "column_sum"
   ]
  },
  {
   "cell_type": "code",
   "execution_count": null,
   "metadata": {},
   "outputs": [],
   "source": []
  }
 ],
 "metadata": {
  "kernelspec": {
   "display_name": "Python 3 (ipykernel)",
   "language": "python",
   "name": "python3"
  },
  "language_info": {
   "codemirror_mode": {
    "name": "ipython",
    "version": 3
   },
   "file_extension": ".py",
   "mimetype": "text/x-python",
   "name": "python",
   "nbconvert_exporter": "python",
   "pygments_lexer": "ipython3",
   "version": "3.11.4"
  }
 },
 "nbformat": 4,
 "nbformat_minor": 4
}
