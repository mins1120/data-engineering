{
 "cells": [
  {
   "cell_type": "markdown",
   "metadata": {},
   "source": [
    "## <strong> 12. 시계열 데이터 생성 및 조작 </strong>"
   ]
  },
  {
   "cell_type": "markdown",
   "metadata": {},
   "source": [
    "### <strong> Python 내장 모듈을 이용한 Datetime 생성\n",
    "---"
   ]
  },
  {
   "cell_type": "markdown",
   "metadata": {},
   "source": [
    "#### ```datetime```, ```dateutil```: 시계열 처리를 위한 Python 내장 모듈"
   ]
  },
  {
   "cell_type": "code",
   "execution_count": 1,
   "metadata": {
    "tags": []
   },
   "outputs": [
    {
     "data": {
      "text/plain": [
       "datetime.datetime(2023, 11, 7, 0, 0)"
      ]
     },
     "execution_count": 1,
     "metadata": {},
     "output_type": "execute_result"
    }
   ],
   "source": [
    "from datetime import datetime\n",
    "\n",
    "# datetime 객체 생성\n",
    "t = datetime(year=2023, month=11, day=7)\n",
    "t"
   ]
  },
  {
   "cell_type": "code",
   "execution_count": 2,
   "metadata": {},
   "outputs": [
    {
     "data": {
      "text/plain": [
       "2023"
      ]
     },
     "execution_count": 2,
     "metadata": {},
     "output_type": "execute_result"
    }
   ],
   "source": [
    "# datetime 속성 접근: year\n",
    "t.year"
   ]
  },
  {
   "cell_type": "code",
   "execution_count": 3,
   "metadata": {},
   "outputs": [
    {
     "data": {
      "text/plain": [
       "datetime.datetime(2023, 11, 7, 0, 0)"
      ]
     },
     "execution_count": 3,
     "metadata": {},
     "output_type": "execute_result"
    }
   ],
   "source": [
    "# 문자열 파싱을 통한 날짜 해석\n",
    "from dateutil import parser\n",
    "\n",
    "date = parser.parse(\"7th of November, 2023\")\n",
    "date"
   ]
  },
  {
   "cell_type": "markdown",
   "metadata": {},
   "source": [
    "#### ```strftime()```: datetime의 속성을 문자열 형태로 출력"
   ]
  },
  {
   "cell_type": "code",
   "execution_count": 4,
   "metadata": {},
   "outputs": [
    {
     "data": {
      "text/plain": [
       "'Tuesday'"
      ]
     },
     "execution_count": 4,
     "metadata": {},
     "output_type": "execute_result"
    }
   ],
   "source": [
    "# [+] 요일 출력\n",
    "date.strftime('%A')"
   ]
  },
  {
   "cell_type": "code",
   "execution_count": 6,
   "metadata": {},
   "outputs": [
    {
     "data": {
      "text/plain": [
       "'November'"
      ]
     },
     "execution_count": 6,
     "metadata": {},
     "output_type": "execute_result"
    }
   ],
   "source": [
    "# [+] 월 출력\n",
    "date.strftime('%B') "
   ]
  },
  {
   "cell_type": "markdown",
   "metadata": {},
   "source": [
    "### <strong> NumPy를 이용한 Datetime 배열 생성</strong>\n",
    "---\n",
    "```datetime64```: ```NumPy```에서 지원하는 datetime 클래스"
   ]
  },
  {
   "cell_type": "code",
   "execution_count": 7,
   "metadata": {},
   "outputs": [
    {
     "data": {
      "text/plain": [
       "array(['2023-11-07', '2023-11-08'], dtype='datetime64[D]')"
      ]
     },
     "execution_count": 7,
     "metadata": {},
     "output_type": "execute_result"
    }
   ],
   "source": [
    "import numpy as np\n",
    "\n",
    "# datetime64 배열 객체 생성\n",
    "dates = np.array(['2023-11-07', '2023-11-08'], dtype=np.datetime64)\n",
    "dates"
   ]
  },
  {
   "cell_type": "code",
   "execution_count": 8,
   "metadata": {},
   "outputs": [
    {
     "data": {
      "text/plain": [
       "numpy.datetime64('2023-11-07')"
      ]
     },
     "execution_count": 8,
     "metadata": {},
     "output_type": "execute_result"
    }
   ],
   "source": [
    "# datetime64() 메서드를 이용한 객체 생성\n",
    "date = np.datetime64('2023-11-07')\n",
    "date"
   ]
  },
  {
   "cell_type": "code",
   "execution_count": 9,
   "metadata": {},
   "outputs": [
    {
     "data": {
      "text/plain": [
       "array(['2023-11-07', '2023-11-08', '2023-11-09', '2023-11-10',\n",
       "       '2023-11-11', '2023-11-12', '2023-11-13'], dtype='datetime64[D]')"
      ]
     },
     "execution_count": 9,
     "metadata": {},
     "output_type": "execute_result"
    }
   ],
   "source": [
    "# 벡터화 연산을 통한 Datetime 배열 생성\n",
    "date + np.arange(7) # [0, 1, .. 6]"
   ]
  },
  {
   "cell_type": "code",
   "execution_count": 10,
   "metadata": {},
   "outputs": [
    {
     "data": {
      "text/plain": [
       "numpy.datetime64('2023-11-07T09:30')"
      ]
     },
     "execution_count": 10,
     "metadata": {},
     "output_type": "execute_result"
    }
   ],
   "source": [
    "# 분(minute) 단위의 Datetime 객체 생성\n",
    "t = np.datetime64('2023-11-07 09:30')\n",
    "t"
   ]
  },
  {
   "cell_type": "code",
   "execution_count": 11,
   "metadata": {},
   "outputs": [
    {
     "data": {
      "text/plain": [
       "numpy.datetime64('2023-11-07T09:44:59.990')"
      ]
     },
     "execution_count": 11,
     "metadata": {},
     "output_type": "execute_result"
    }
   ],
   "source": [
    "# 디폴트 시간 빈도: ms\n",
    "t = np.datetime64('2023-11-07 09:44:59.99')\n",
    "t"
   ]
  },
  {
   "cell_type": "code",
   "execution_count": 12,
   "metadata": {},
   "outputs": [
    {
     "data": {
      "text/plain": [
       "numpy.datetime64('2023-11-07T09:44:59.990000000')"
      ]
     },
     "execution_count": 12,
     "metadata": {},
     "output_type": "execute_result"
    }
   ],
   "source": [
    "# 시간 빈도를 Nanosecond로 설정\n",
    "t = np.datetime64('2023-11-07 09:44:59.99', 'ns')\n",
    "t"
   ]
  },
  {
   "cell_type": "code",
   "execution_count": 13,
   "metadata": {},
   "outputs": [
    {
     "data": {
      "text/plain": [
       "numpy.datetime64('2022')"
      ]
     },
     "execution_count": 13,
     "metadata": {},
     "output_type": "execute_result"
    }
   ],
   "source": [
    "# datetime64 코드: Y, M, D, h...\n",
    "t = np.datetime64('2022-10-18 11:39:10.20', 'Y')\n",
    "t"
   ]
  },
  {
   "cell_type": "markdown",
   "metadata": {},
   "source": [
    "### <strong> Pandas에서의 시계열 처리</strong>\n",
    "---"
   ]
  },
  {
   "cell_type": "code",
   "execution_count": 14,
   "metadata": {},
   "outputs": [
    {
     "data": {
      "text/plain": [
       "Timestamp('2023-11-07 00:00:00')"
      ]
     },
     "execution_count": 14,
     "metadata": {},
     "output_type": "execute_result"
    }
   ],
   "source": [
    "import pandas as pd\n",
    "\n",
    "# to_datetime() 파싱 함수를 이용한 Timestamp 객체 생성\n",
    "date = pd.to_datetime(\"7th of November, 2023\")\n",
    "date"
   ]
  },
  {
   "cell_type": "code",
   "execution_count": 15,
   "metadata": {},
   "outputs": [
    {
     "data": {
      "text/plain": [
       "'Tuesday'"
      ]
     },
     "execution_count": 15,
     "metadata": {},
     "output_type": "execute_result"
    }
   ],
   "source": [
    "# 요일 출력\n",
    "date.strftime('%A')"
   ]
  },
  {
   "cell_type": "code",
   "execution_count": 16,
   "metadata": {},
   "outputs": [
    {
     "data": {
      "text/plain": [
       "DatetimeIndex([          '2023-11-07 00:00:00',\n",
       "               '2023-11-07 00:00:00.000000001',\n",
       "               '2023-11-07 00:00:00.000000002',\n",
       "               '2023-11-07 00:00:00.000000003',\n",
       "               '2023-11-07 00:00:00.000000004',\n",
       "               '2023-11-07 00:00:00.000000005',\n",
       "               '2023-11-07 00:00:00.000000006'],\n",
       "              dtype='datetime64[ns]', freq=None)"
      ]
     },
     "execution_count": 16,
     "metadata": {},
     "output_type": "execute_result"
    }
   ],
   "source": [
    "# NumPy 스타일의 배열 연산\n",
    "date + pd.to_timedelta(np.arange(7))"
   ]
  },
  {
   "cell_type": "code",
   "execution_count": 17,
   "metadata": {},
   "outputs": [
    {
     "data": {
      "text/plain": [
       "DatetimeIndex(['2023-11-07', '2023-11-08', '2023-11-09', '2023-11-10',\n",
       "               '2023-11-11', '2023-11-12', '2023-11-13'],\n",
       "              dtype='datetime64[ns]', freq=None)"
      ]
     },
     "execution_count": 17,
     "metadata": {},
     "output_type": "execute_result"
    }
   ],
   "source": [
    "date + pd.to_timedelta(np.arange(7), unit='D')"
   ]
  },
  {
   "cell_type": "markdown",
   "metadata": {},
   "source": [
    "#### <strong> 시계열 생성"
   ]
  },
  {
   "cell_type": "code",
   "execution_count": 19,
   "metadata": {},
   "outputs": [
    {
     "data": {
      "text/plain": [
       "DatetimeIndex(['2022-10-27', '2022-10-28', '2022-10-29', '2022-10-30',\n",
       "               '2022-10-31', '2022-11-01', '2022-11-02'],\n",
       "              dtype='datetime64[ns]', freq=None)"
      ]
     },
     "execution_count": 19,
     "metadata": {},
     "output_type": "execute_result"
    }
   ],
   "source": [
    "# DatetimeIndex 객체 생성\n",
    "ind = pd.DatetimeIndex(['2022-10-27', '2022-10-28', '2022-10-29', '2022-10-30',\n",
    "                        '2022-10-31', '2022-11-01', '2022-11-02'])\n",
    "ind"
   ]
  },
  {
   "cell_type": "code",
   "execution_count": 20,
   "metadata": {},
   "outputs": [
    {
     "data": {
      "text/plain": [
       "2022-10-27    1\n",
       "2022-10-28    2\n",
       "2022-10-29    3\n",
       "2022-10-30    4\n",
       "2022-10-31    5\n",
       "2022-11-01    6\n",
       "2022-11-02    7\n",
       "dtype: int64"
      ]
     },
     "execution_count": 20,
     "metadata": {},
     "output_type": "execute_result"
    }
   ],
   "source": [
    "# [+] 시계열 인덱싱 적용\n",
    "ser = pd.Series([1, 2, 3, 4, 5, 6, 7], index=ind)\n",
    "ser"
   ]
  },
  {
   "cell_type": "code",
   "execution_count": 21,
   "metadata": {},
   "outputs": [
    {
     "data": {
      "text/plain": [
       "DatetimeIndex(['2022-10-27', '2022-10-28', '2022-10-29', '2022-10-30',\n",
       "               '2022-10-31', '2022-11-01', '2022-11-02'],\n",
       "              dtype='datetime64[ns]', freq=None)"
      ]
     },
     "execution_count": 21,
     "metadata": {},
     "output_type": "execute_result"
    }
   ],
   "source": [
    "ser.index"
   ]
  },
  {
   "cell_type": "code",
   "execution_count": 22,
   "metadata": {},
   "outputs": [
    {
     "data": {
      "text/plain": [
       "2"
      ]
     },
     "execution_count": 22,
     "metadata": {},
     "output_type": "execute_result"
    }
   ],
   "source": [
    "# [+] 인덱싱\n",
    "ser['2022-10-28']"
   ]
  },
  {
   "cell_type": "code",
   "execution_count": 23,
   "metadata": {},
   "outputs": [
    {
     "data": {
      "text/plain": [
       "2022-10-28    2\n",
       "2022-10-29    3\n",
       "2022-10-30    4\n",
       "dtype: int64"
      ]
     },
     "execution_count": 23,
     "metadata": {},
     "output_type": "execute_result"
    }
   ],
   "source": [
    "# [+] 슬라이싱\n",
    "ser['2022-10-28':'2022-10-30']"
   ]
  },
  {
   "cell_type": "code",
   "execution_count": 24,
   "metadata": {},
   "outputs": [
    {
     "data": {
      "text/plain": [
       "2022-10-29    3\n",
       "2022-10-30    4\n",
       "2022-10-31    5\n",
       "dtype: int64"
      ]
     },
     "execution_count": 24,
     "metadata": {},
     "output_type": "execute_result"
    }
   ],
   "source": [
    "# [+] 데이터 선택\n",
    "ser[2:5]"
   ]
  },
  {
   "cell_type": "markdown",
   "metadata": {},
   "source": [
    "#### <strong> 시계열 관련 Pandas의 데이터 구조"
   ]
  },
  {
   "cell_type": "code",
   "execution_count": 25,
   "metadata": {},
   "outputs": [
    {
     "name": "stdout",
     "output_type": "stream",
     "text": [
      "DatetimeIndex(['2015-07-03', '2015-07-04', '2015-07-06', '2015-07-07',\n",
      "               '2015-07-08'],\n",
      "              dtype='datetime64[ns]', freq=None)\n"
     ]
    }
   ],
   "source": [
    "# Timestamp와 DatetimeIndex\n",
    "dates = pd.to_datetime([datetime(2015, 7, 3),\n",
    "                      \"4th of July, 2015\",\n",
    "                      '2015-Jul-6',\n",
    "                      '07-07-2015',\n",
    "                      '20150708'])\n",
    "print(dates)"
   ]
  },
  {
   "cell_type": "code",
   "execution_count": 26,
   "metadata": {},
   "outputs": [
    {
     "data": {
      "text/plain": [
       "PeriodIndex(['2015-06-29/2015-07-05', '2015-06-29/2015-07-05',\n",
       "             '2015-07-06/2015-07-12', '2015-07-06/2015-07-12',\n",
       "             '2015-07-06/2015-07-12'],\n",
       "            dtype='period[W-SUN]')"
      ]
     },
     "execution_count": 26,
     "metadata": {},
     "output_type": "execute_result"
    }
   ],
   "source": [
    "# to_period(): DatetimeIndex -> PeriodIndex 변환\n",
    "dates.to_period('D')\n",
    "dates.to_period('W')"
   ]
  },
  {
   "cell_type": "code",
   "execution_count": 27,
   "metadata": {},
   "outputs": [
    {
     "data": {
      "text/plain": [
       "TimedeltaIndex(['1 days', '2 days', '3 days'], dtype='timedelta64[ns]', freq=None)"
      ]
     },
     "execution_count": 27,
     "metadata": {},
     "output_type": "execute_result"
    }
   ],
   "source": [
    "# [+] TimedeltaIndex 생성\n",
    "time_delta = pd.to_timedelta([1, 2, 3], unit='D')\n",
    "time_delta"
   ]
  },
  {
   "cell_type": "markdown",
   "metadata": {},
   "source": [
    "#### <strong> 정규 시퀀스 </strong>"
   ]
  },
  {
   "cell_type": "code",
   "execution_count": 28,
   "metadata": {},
   "outputs": [
    {
     "data": {
      "text/plain": [
       "DatetimeIndex(['2022-10-27', '2022-10-28', '2022-10-29', '2022-10-30',\n",
       "               '2022-10-31', '2022-11-01', '2022-11-02'],\n",
       "              dtype='datetime64[ns]', freq='D')"
      ]
     },
     "execution_count": 28,
     "metadata": {},
     "output_type": "execute_result"
    }
   ],
   "source": [
    "# [+] pd.date_range()를 이용한 정규 시퀀스 생성\n",
    "pd.date_range('2022-10-27', periods=7, freq='D')"
   ]
  },
  {
   "cell_type": "code",
   "execution_count": 29,
   "metadata": {},
   "outputs": [
    {
     "data": {
      "text/plain": [
       "PeriodIndex(['2022-10', '2022-11', '2022-12'], dtype='period[M]')"
      ]
     },
     "execution_count": 29,
     "metadata": {},
     "output_type": "execute_result"
    }
   ],
   "source": [
    "# [+] Period 값을 이용\n",
    "pd.period_range('2022-10', periods=3, freq='M')"
   ]
  },
  {
   "cell_type": "code",
   "execution_count": 30,
   "metadata": {},
   "outputs": [
    {
     "data": {
      "text/plain": [
       "DatetimeIndex(['2022-10-27 00:00:00', '2022-10-27 01:00:00',\n",
       "               '2022-10-27 02:00:00', '2022-10-27 03:00:00',\n",
       "               '2022-10-27 04:00:00', '2022-10-27 05:00:00',\n",
       "               '2022-10-27 06:00:00', '2022-10-27 07:00:00',\n",
       "               '2022-10-27 08:00:00', '2022-10-27 09:00:00',\n",
       "               '2022-10-27 10:00:00', '2022-10-27 11:00:00'],\n",
       "              dtype='datetime64[ns]', freq='H')"
      ]
     },
     "execution_count": 30,
     "metadata": {},
     "output_type": "execute_result"
    }
   ],
   "source": [
    "# 빈도 변경\n",
    "pd.date_range('2022-10-27', periods=12, freq='H')"
   ]
  },
  {
   "cell_type": "code",
   "execution_count": 31,
   "metadata": {},
   "outputs": [
    {
     "data": {
      "text/plain": [
       "PeriodIndex(['2015-07', '2015-08', '2015-09', '2015-10', '2015-11', '2015-12',\n",
       "             '2016-01', '2016-02'],\n",
       "            dtype='period[M]')"
      ]
     },
     "execution_count": 31,
     "metadata": {},
     "output_type": "execute_result"
    }
   ],
   "source": [
    "# pd.period_range()\n",
    "pd.period_range('2015-07', periods=8, freq='M')"
   ]
  },
  {
   "cell_type": "code",
   "execution_count": 32,
   "metadata": {},
   "outputs": [
    {
     "name": "stdout",
     "output_type": "stream",
     "text": [
      "True\n",
      "2022-10-27 00:00:00\n",
      "2022-10-27 23:59:59.999999999\n"
     ]
    }
   ],
   "source": [
    "# Timestamp vs. Period\n",
    "period = pd.Period('2022-10-27')\n",
    "timestamp = pd.Timestamp('2022-10-27 09:30')\n",
    "\n",
    "print(period.start_time < timestamp < period.end_time)\n",
    "\n",
    "print(period.start_time)\n",
    "\n",
    "print(period.end_time)"
   ]
  },
  {
   "cell_type": "code",
   "execution_count": 33,
   "metadata": {},
   "outputs": [
    {
     "data": {
      "text/plain": [
       "TimedeltaIndex(['0 days 00:00:00', '0 days 01:00:00', '0 days 02:00:00',\n",
       "                '0 days 03:00:00', '0 days 04:00:00', '0 days 05:00:00',\n",
       "                '0 days 06:00:00', '0 days 07:00:00', '0 days 08:00:00',\n",
       "                '0 days 09:00:00'],\n",
       "               dtype='timedelta64[ns]', freq='H')"
      ]
     },
     "execution_count": 33,
     "metadata": {},
     "output_type": "execute_result"
    }
   ],
   "source": [
    "# pd.timedelta_range()\n",
    "pd.timedelta_range(0, periods=10, freq='H')"
   ]
  },
  {
   "cell_type": "markdown",
   "metadata": {},
   "source": [
    "| Code   | Description         | Code   | Description          |\n",
    "|--------|---------------------|--------|----------------------|\n",
    "| ``D``  | Calendar day        | ``B``  | Business day         |\n",
    "| ``W``  | Weekly              |   -    |                      |\n",
    "| ``M``  | Month end           | ``BM`` | Business month end   |\n",
    "| ``Q``  | Quarter end         | ``BQ`` | Business quarter end |\n",
    "| ``A``  | Year end            | ``BA`` | Business year end    |\n",
    "| ``H``  | Hours               | ``BH`` | Business hours       |\n",
    "| ``T``  | Minutes             |   -    |                      |\n",
    "| ``S``  | Seconds             |   -    |                      |\n",
    "| ``L``  | Milliseonds         |   -    |                      |\n",
    "| ``U``  | Microseconds        |   -    |                      |\n",
    "| ``N``  | nanoseconds         |   -    |                      |"
   ]
  },
  {
   "cell_type": "markdown",
   "metadata": {},
   "source": [
    "#### <strong> 빈도 및 오프셋"
   ]
  },
  {
   "cell_type": "code",
   "execution_count": 34,
   "metadata": {},
   "outputs": [
    {
     "data": {
      "text/plain": [
       "DatetimeIndex(['2022-11-01 00:00:00', '2022-11-01 01:00:00',\n",
       "               '2022-11-01 02:00:00', '2022-11-01 03:00:00',\n",
       "               '2022-11-01 04:00:00', '2022-11-01 05:00:00',\n",
       "               '2022-11-01 06:00:00', '2022-11-01 07:00:00',\n",
       "               '2022-11-01 08:00:00', '2022-11-01 09:00:00'],\n",
       "              dtype='datetime64[ns]', freq='H')"
      ]
     },
     "execution_count": 34,
     "metadata": {},
     "output_type": "execute_result"
    }
   ],
   "source": [
    "# 빈도 코드\n",
    "pd.date_range('2022-11-01', periods=10, freq='H')"
   ]
  },
  {
   "cell_type": "code",
   "execution_count": 35,
   "metadata": {},
   "outputs": [
    {
     "data": {
      "text/plain": [
       "DatetimeIndex(['2022-11-30', '2022-12-31', '2023-01-31', '2023-02-28',\n",
       "               '2023-03-31', '2023-04-30', '2023-05-31', '2023-06-30',\n",
       "               '2023-07-31', '2023-08-31'],\n",
       "              dtype='datetime64[ns]', freq='M')"
      ]
     },
     "execution_count": 35,
     "metadata": {},
     "output_type": "execute_result"
    }
   ],
   "source": [
    "# 빈도, M: 월말\n",
    "(pd.date_range('2022-11-01', periods=10, freq=\"M\"))"
   ]
  },
  {
   "cell_type": "code",
   "execution_count": 36,
   "metadata": {},
   "outputs": [
    {
     "data": {
      "text/plain": [
       "DatetimeIndex(['2022-11-30', '2022-12-30', '2023-01-31', '2023-02-28',\n",
       "               '2023-03-31', '2023-04-28', '2023-05-31', '2023-06-30',\n",
       "               '2023-07-31', '2023-08-31'],\n",
       "              dtype='datetime64[ns]', freq='BM')"
      ]
     },
     "execution_count": 36,
     "metadata": {},
     "output_type": "execute_result"
    }
   ],
   "source": [
    "# 빈도, BM: 비즈니스 기준 월말\n",
    "pd.date_range('2022-11-01', periods=10, freq=\"BM\")"
   ]
  },
  {
   "cell_type": "code",
   "execution_count": 37,
   "metadata": {},
   "outputs": [
    {
     "data": {
      "text/plain": [
       "DatetimeIndex(['2022-11-01', '2022-12-01', '2023-01-01', '2023-02-01',\n",
       "               '2023-03-01', '2023-04-01', '2023-05-01', '2023-06-01',\n",
       "               '2023-07-01', '2023-08-01'],\n",
       "              dtype='datetime64[ns]', freq='MS')"
      ]
     },
     "execution_count": 37,
     "metadata": {},
     "output_type": "execute_result"
    }
   ],
   "source": [
    "# 접미사 'S': 시작 일시를 기준으로 시퀀스 생성\n",
    "pd.date_range('2022-11-01', periods=10, freq='MS')"
   ]
  },
  {
   "cell_type": "code",
   "execution_count": 38,
   "metadata": {},
   "outputs": [
    {
     "data": {
      "text/plain": [
       "DatetimeIndex(['2022-11-01 00:00:00', '2022-11-01 02:30:00',\n",
       "               '2022-11-01 05:00:00', '2022-11-01 07:30:00',\n",
       "               '2022-11-01 10:00:00', '2022-11-01 12:30:00',\n",
       "               '2022-11-01 15:00:00', '2022-11-01 17:30:00',\n",
       "               '2022-11-01 20:00:00'],\n",
       "              dtype='datetime64[ns]', freq='150T')"
      ]
     },
     "execution_count": 38,
     "metadata": {},
     "output_type": "execute_result"
    }
   ],
   "source": [
    "# 빈도 코드 조합\n",
    "pd.date_range('2022-11-01', periods=9, freq='2H30T')"
   ]
  },
  {
   "cell_type": "code",
   "execution_count": 39,
   "metadata": {},
   "outputs": [
    {
     "data": {
      "text/plain": [
       "Timestamp('2023-11-09 01:30:00')"
      ]
     },
     "execution_count": 39,
     "metadata": {},
     "output_type": "execute_result"
    }
   ],
   "source": [
    "# 오프셋\n",
    "from pandas.tseries.offsets import DateOffset\n",
    "ts = pd.Timestamp('2023-11-07 09:30:00')\n",
    "ts + DateOffset(hours=40)"
   ]
  },
  {
   "cell_type": "code",
   "execution_count": 40,
   "metadata": {},
   "outputs": [
    {
     "data": {
      "text/plain": [
       "Timestamp('1950-06-25 04:20:00')"
      ]
     },
     "execution_count": 40,
     "metadata": {},
     "output_type": "execute_result"
    }
   ],
   "source": [
    "# 오프셋(minus)\n",
    "ts - DateOffset(years=73, months=4, days=12, hours=5, minutes=10, seconds=00)"
   ]
  },
  {
   "cell_type": "code",
   "execution_count": null,
   "metadata": {},
   "outputs": [],
   "source": []
  }
 ],
 "metadata": {
  "kernelspec": {
   "display_name": "Python 3 (ipykernel)",
   "language": "python",
   "name": "python3"
  },
  "language_info": {
   "codemirror_mode": {
    "name": "ipython",
    "version": 3
   },
   "file_extension": ".py",
   "mimetype": "text/x-python",
   "name": "python",
   "nbconvert_exporter": "python",
   "pygments_lexer": "ipython3",
   "version": "3.11.4"
  }
 },
 "nbformat": 4,
 "nbformat_minor": 4
}
