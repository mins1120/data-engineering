{
 "cells": [
  {
   "cell_type": "markdown",
   "metadata": {},
   "source": [
    "## 5. <strong>NumPy 배열</strong>"
   ]
  },
  {
   "cell_type": "code",
   "execution_count": 1,
   "metadata": {
    "tags": []
   },
   "outputs": [
    {
     "name": "stdout",
     "output_type": "stream",
     "text": [
      "Requirement already satisfied: numpy in c:\\users\\lg\\anaconda3\\lib\\site-packages (1.24.3)\n"
     ]
    }
   ],
   "source": [
    "# Python 패키지 설치 명령어\n",
    "!pip install numpy"
   ]
  },
  {
   "cell_type": "code",
   "execution_count": 2,
   "metadata": {
    "tags": []
   },
   "outputs": [],
   "source": [
    "# NumPy 불러오기\n",
    "import numpy as np"
   ]
  },
  {
   "cell_type": "markdown",
   "metadata": {},
   "source": [
    "### <strong> 5.1 NumPy 배열 생성"
   ]
  },
  {
   "cell_type": "code",
   "execution_count": 3,
   "metadata": {
    "tags": []
   },
   "outputs": [
    {
     "data": {
      "text/plain": [
       "array([1, 2, 3, 4, 5, 6])"
      ]
     },
     "execution_count": 3,
     "metadata": {},
     "output_type": "execute_result"
    }
   ],
   "source": [
    "# [+] 리스트 객체로부터 ndarray 객체 생성\n",
    "my_lst = [1, 2, 3, 4, 5, 6]\n",
    "my_arr = np.array(my_lst)\n",
    "\n",
    "my_arr"
   ]
  },
  {
   "cell_type": "code",
   "execution_count": 4,
   "metadata": {
    "tags": []
   },
   "outputs": [
    {
     "data": {
      "text/plain": [
       "array([1, 2, 3, 4, 5, 6])"
      ]
     },
     "execution_count": 4,
     "metadata": {},
     "output_type": "execute_result"
    }
   ],
   "source": [
    "# [+] 리스트/NumPy 배열 동시에 생성\n",
    "my_array = np.array([1, 2, 3, 4, 5, 6])\n",
    "my_array"
   ]
  },
  {
   "cell_type": "markdown",
   "metadata": {},
   "source": [
    "#### 리스트 컴프리헨션 vs NumPy 배열"
   ]
  },
  {
   "cell_type": "code",
   "execution_count": 5,
   "metadata": {
    "tags": []
   },
   "outputs": [
    {
     "data": {
      "text/plain": [
       "[15, 35, 30, 5, 20, 51]"
      ]
     },
     "execution_count": 5,
     "metadata": {},
     "output_type": "execute_result"
    }
   ],
   "source": [
    "prices = [20, 40, 35, 10, 25, 56]\n",
    "\n",
    "# [+] 리스트 컴프리헨션을 이용하여 5달러씩 가격을 일괄적으로 할인하기\n",
    "new_prices = [price-5 for price in prices]\n",
    "\n",
    "new_prices"
   ]
  },
  {
   "cell_type": "code",
   "execution_count": 6,
   "metadata": {
    "tags": []
   },
   "outputs": [
    {
     "data": {
      "text/plain": [
       "array([15, 35, 30,  5, 20, 51])"
      ]
     },
     "execution_count": 6,
     "metadata": {},
     "output_type": "execute_result"
    }
   ],
   "source": [
    "# [+] NumPy 배열의 연산을 통한 5달러씩 가격을 일괄적으로 할인하기\n",
    "prices_arr = np.array(prices)   # 배열 생성\n",
    "prices_arr -= 5   # 가격 수정\n",
    "\n",
    "prices_arr"
   ]
  },
  {
   "cell_type": "markdown",
   "metadata": {},
   "source": [
    "#### 예제: 시험 점수 처리"
   ]
  },
  {
   "cell_type": "code",
   "execution_count": 7,
   "metadata": {
    "tags": []
   },
   "outputs": [],
   "source": [
    "# 세 번의 시험에 대한 점수를 NumPy 배열로 선언\n",
    "test_1 = np.array([92, 94, 88, 91, 87])\n",
    "test_2 = np.array([79, 100, 86, 93, 91])\n",
    "test_3 = np.array([87, 85, 72, 90, 92])\n",
    "\n",
    "total_test = np.array([test_1, test_2, test_3])"
   ]
  },
  {
   "cell_type": "code",
   "execution_count": 8,
   "metadata": {
    "tags": []
   },
   "outputs": [
    {
     "data": {
      "text/plain": [
       "[89, 87, 74, 92, 94]"
      ]
     },
     "execution_count": 8,
     "metadata": {},
     "output_type": "execute_result"
    }
   ],
   "source": [
    "# [+] 세 번째 시험에 2점씩 더하기\n",
    "test_3_fixed = [price+2 for price in test_3]\n",
    "\n",
    "test_3_fixed"
   ]
  },
  {
   "cell_type": "code",
   "execution_count": 9,
   "metadata": {
    "tags": []
   },
   "outputs": [
    {
     "data": {
      "text/plain": [
       "array([258, 279, 246, 274, 270])"
      ]
     },
     "execution_count": 9,
     "metadata": {},
     "output_type": "execute_result"
    }
   ],
   "source": [
    "# [+] 학생 별 전체 시험 점수 총합 계산 -> total_grade\n",
    "total_grade = test_1 + test_2 + test_3\n",
    "\n",
    "total_grade"
   ]
  },
  {
   "cell_type": "code",
   "execution_count": 10,
   "metadata": {
    "tags": []
   },
   "outputs": [
    {
     "data": {
      "text/plain": [
       "array([86.        , 93.        , 82.        , 91.33333333, 90.        ])"
      ]
     },
     "execution_count": 10,
     "metadata": {},
     "output_type": "execute_result"
    }
   ],
   "source": [
    "# [+] 학생 별 평균 시험 점수 계산 -> final_grade\n",
    "final_grade = (test_1 + test_2 + test_3)/3\n",
    "\n",
    "final_grade"
   ]
  },
  {
   "cell_type": "code",
   "execution_count": 11,
   "metadata": {
    "tags": []
   },
   "outputs": [
    {
     "data": {
      "text/plain": [
       "93"
      ]
     },
     "execution_count": 11,
     "metadata": {},
     "output_type": "execute_result"
    }
   ],
   "source": [
    "# [+] 인덱싱: Jeremy의 두 번째 시험 점수\n",
    "jeremy_test_2 = test_2[3]\n",
    "\n",
    "jeremy_test_2"
   ]
  },
  {
   "cell_type": "code",
   "execution_count": 12,
   "metadata": {
    "tags": []
   },
   "outputs": [
    {
     "data": {
      "text/plain": [
       "array([94, 88])"
      ]
     },
     "execution_count": 12,
     "metadata": {},
     "output_type": "execute_result"
    }
   ],
   "source": [
    "# [+] Manual과 Adwoa의 첫 번째 시험 점수\n",
    "manual_adwoa_test_1 = test_1[1:3]\n",
    "\n",
    "manual_adwoa_test_1"
   ]
  },
  {
   "cell_type": "code",
   "execution_count": 13,
   "metadata": {
    "tags": []
   },
   "outputs": [
    {
     "data": {
      "text/plain": [
       "array([[ 92,  94,  88,  91,  87],\n",
       "       [ 79, 100,  86,  93,  91],\n",
       "       [ 87,  85,  72,  90,  92]])"
      ]
     },
     "execution_count": 13,
     "metadata": {},
     "output_type": "execute_result"
    }
   ],
   "source": [
    "# [+] 전체 학생들의 점수를 2차원 배열에 저장 -> student_scores\n",
    "student_scores = np.array([test_1, test_2, test_3])\n",
    "\n",
    "student_scores"
   ]
  },
  {
   "cell_type": "code",
   "execution_count": 14,
   "metadata": {
    "tags": []
   },
   "outputs": [
    {
     "data": {
      "text/plain": [
       "87"
      ]
     },
     "execution_count": 14,
     "metadata": {},
     "output_type": "execute_result"
    }
   ],
   "source": [
    "# [+] 2차원 배열 인덱싱: Tanya의 세 번째 시험 점수\n",
    "student_scores[2][0]"
   ]
  },
  {
   "cell_type": "code",
   "execution_count": 15,
   "metadata": {
    "tags": []
   },
   "outputs": [
    {
     "data": {
      "text/plain": [
       "array([87, 91, 92])"
      ]
     },
     "execution_count": 15,
     "metadata": {},
     "output_type": "execute_result"
    }
   ],
   "source": [
    "# [+] 2차원 배열 슬라이싱: Cody의 전체 시험 점수\n",
    "student_scores[:,-1]"
   ]
  },
  {
   "cell_type": "markdown",
   "metadata": {},
   "source": [
    "#### 배열 원소 단위의 논리 연산"
   ]
  },
  {
   "cell_type": "code",
   "execution_count": 16,
   "metadata": {
    "tags": []
   },
   "outputs": [
    {
     "data": {
      "text/plain": [
       "array([False, False, False, False, False, False, False, False])"
      ]
     },
     "execution_count": 16,
     "metadata": {},
     "output_type": "execute_result"
    }
   ],
   "source": [
    "a = np.array([1, 20, 4, 6, 28, 88, 7, 12])\n",
    "\n",
    "# [+] 150 이상 여부를 마스킹\n",
    "mask = a >= 150\n",
    "\n",
    "mask"
   ]
  },
  {
   "cell_type": "code",
   "execution_count": 17,
   "metadata": {
    "tags": []
   },
   "outputs": [
    {
     "data": {
      "text/plain": [
       "array([88])"
      ]
     },
     "execution_count": 17,
     "metadata": {},
     "output_type": "execute_result"
    }
   ],
   "source": [
    "# [+] 논리 연산을 이용하여 부분집합 구하기\n",
    "selected = a[a>30]\n",
    "\n",
    "selected"
   ]
  },
  {
   "cell_type": "code",
   "execution_count": 18,
   "metadata": {
    "tags": []
   },
   "outputs": [
    {
     "data": {
      "text/plain": [
       "array([ 1, 20,  6, 28, 88,  7, 12])"
      ]
     },
     "execution_count": 18,
     "metadata": {},
     "output_type": "execute_result"
    }
   ],
   "source": [
    "# [+] 논리식 결합: 논리합\n",
    "selected = a[(a > 5) | (a < 3)]\n",
    "\n",
    "selected"
   ]
  },
  {
   "cell_type": "code",
   "execution_count": 19,
   "metadata": {
    "tags": []
   },
   "outputs": [
    {
     "data": {
      "text/plain": [
       "array([88])"
      ]
     },
     "execution_count": 19,
     "metadata": {},
     "output_type": "execute_result"
    }
   ],
   "source": [
    "# [+] 논리식 결합: 논리곱\n",
    "selected = a[(a > 7) & (a > 30)]\n",
    "\n",
    "selected"
   ]
  },
  {
   "cell_type": "code",
   "execution_count": 20,
   "metadata": {
    "tags": []
   },
   "outputs": [
    {
     "data": {
      "text/plain": [
       "array([11, 14, 17, 20, 23, 26, 29, 32])"
      ]
     },
     "execution_count": 20,
     "metadata": {},
     "output_type": "execute_result"
    }
   ],
   "source": [
    "# [+] 정수 배열 생성\n",
    "np.arange(11, 33, 3)"
   ]
  },
  {
   "cell_type": "code",
   "execution_count": 21,
   "metadata": {
    "tags": []
   },
   "outputs": [
    {
     "data": {
      "text/plain": [
       "array([[3, 6, 6, 0, 9],\n",
       "       [8, 4, 7, 0, 0],\n",
       "       [7, 1, 5, 7, 0]])"
      ]
     },
     "execution_count": 21,
     "metadata": {},
     "output_type": "execute_result"
    }
   ],
   "source": [
    "# [+] 난수 배열 생성\n",
    "np.random.seed(5)\n",
    "arr=np.random.randint(10,size=(3,5))\n",
    "\n",
    "arr"
   ]
  },
  {
   "cell_type": "markdown",
   "metadata": {},
   "source": [
    "### <strong>5.2 배열 조작 연산</strong>"
   ]
  },
  {
   "cell_type": "code",
   "execution_count": 22,
   "metadata": {},
   "outputs": [
    {
     "name": "stdout",
     "output_type": "stream",
     "text": [
      "2\n",
      "(3, 5)\n",
      "15\n",
      "int32\n",
      "4\n",
      "60\n"
     ]
    }
   ],
   "source": [
    "# [+] 배열 속성\n",
    "print(arr.ndim)     # 차원 수\n",
    "print(arr.shape)    # 형상\n",
    "print(arr.size)     # 크기\n",
    "print(arr.dtype)    # 데이터 타입\n",
    "print(arr.itemsize) # 원소별 메모리 크기(bytes)\n",
    "print(arr.nbytes)   # 전체 메모리 크기"
   ]
  },
  {
   "cell_type": "code",
   "execution_count": 23,
   "metadata": {},
   "outputs": [
    {
     "name": "stdout",
     "output_type": "stream",
     "text": [
      "[0 1 2 3 4 5 6 7 8 9]\n",
      "[2 3 4 5 6]\n",
      "[0 1 2 3 4]\n",
      "[5 6 7 8 9]\n",
      "[0 2 4 6 8]\n",
      "[1 3 5 7]\n"
     ]
    }
   ],
   "source": [
    "# [+] 배열 슬라이싱\n",
    "arr = np.arange(10)\n",
    "print(arr)\n",
    "\n",
    "print(arr[2:7])  # 슬라이싱(start:stop)\n",
    "print(arr[:5])   # 시작 인덱스 생략(:stop)\n",
    "print(arr[5:])   # 종료 인덱스 생략(start:)\n",
    "print(arr[::2])  # 간격(::interval)\n",
    "print(arr[1:8:2])  # 슬라이싱(start:stop:interval)"
   ]
  },
  {
   "cell_type": "code",
   "execution_count": 36,
   "metadata": {},
   "outputs": [
    {
     "data": {
      "text/plain": [
       "array([[3, 6, 6, 0, 9, 8, 4, 7],\n",
       "       [0, 0, 7, 1, 5, 7, 0, 1],\n",
       "       [4, 6, 2, 9, 9, 9, 9, 1],\n",
       "       [2, 7, 0, 5, 0, 0, 4, 4],\n",
       "       [9, 3, 2, 4, 6, 9, 3, 3],\n",
       "       [2, 1, 5, 7, 4, 3, 1, 7]])"
      ]
     },
     "execution_count": 36,
     "metadata": {},
     "output_type": "execute_result"
    }
   ],
   "source": [
    "# [+] 난수 배열 생성\n",
    "np.random.seed(5)  # [+] 시드 설정\n",
    "arr = np.random.randint(10, size=(6, 8))  # [+] 난수 배열 생성\n",
    "\n",
    "arr"
   ]
  },
  {
   "cell_type": "code",
   "execution_count": 38,
   "metadata": {},
   "outputs": [
    {
     "data": {
      "text/plain": [
       "array([[5, 7, 0, 1],\n",
       "       [9, 9, 9, 1],\n",
       "       [0, 0, 4, 4]])"
      ]
     },
     "execution_count": 38,
     "metadata": {},
     "output_type": "execute_result"
    }
   ],
   "source": [
    "# [+] 다차원 배열 슬라이싱\n",
    "arr[1:4, 4:]"
   ]
  },
  {
   "cell_type": "code",
   "execution_count": 26,
   "metadata": {},
   "outputs": [
    {
     "name": "stdout",
     "output_type": "stream",
     "text": [
      "[[3 6]\n",
      " [8 4]]\n",
      "[[99  6]\n",
      " [ 8  4]]\n",
      "[[99  6  6  0  9]\n",
      " [ 8  4  7  0  0]\n",
      " [ 7  1  5  7  0]]\n"
     ]
    }
   ],
   "source": [
    "# 배열 슬라이스 = 뷰(view)\n",
    "arr_sub = arr[:2, :2]\n",
    "print(arr_sub)\n",
    "\n",
    "arr_sub[0, 0] = 99\n",
    "print(arr_sub)\n",
    "\n",
    "print(arr)"
   ]
  },
  {
   "cell_type": "code",
   "execution_count": 27,
   "metadata": {},
   "outputs": [
    {
     "name": "stdout",
     "output_type": "stream",
     "text": [
      "[[99  6]\n",
      " [ 8  4]]\n",
      "[[99  6  6  0  9]\n",
      " [ 8  4  7  0  0]\n",
      " [ 7  1  5  7  0]]\n"
     ]
    }
   ],
   "source": [
    "# 배열 복사본 생성\n",
    "arr_sub = arr[:2, :2].copy()\n",
    "\n",
    "arr_sub[0, 0] = 99\n",
    "print(arr_sub)\n",
    "\n",
    "print(arr)"
   ]
  },
  {
   "cell_type": "code",
   "execution_count": 28,
   "metadata": {},
   "outputs": [
    {
     "name": "stdout",
     "output_type": "stream",
     "text": [
      "[0 1 2 3 4 5 6 7 8 9]\n",
      "(10,)\n",
      "[[0 1 2 3 4]\n",
      " [5 6 7 8 9]]\n",
      "(2, 5)\n"
     ]
    }
   ],
   "source": [
    "# [+] 배열 재구조화: reshape()\n",
    "x = np.arange(10) # 0~9로 이루어진 배열 생성 (10,)\n",
    "print(x)\n",
    "print(x.shape)\n",
    "\n",
    "x = x.reshape(2, 5)  # 배열을 2X5 형상으로 재구조화\n",
    "print(x)\n",
    "print(x.shape)"
   ]
  },
  {
   "cell_type": "code",
   "execution_count": 29,
   "metadata": {},
   "outputs": [
    {
     "name": "stdout",
     "output_type": "stream",
     "text": [
      "[[[0 1 2 3 4]]\n",
      "\n",
      " [[5 6 7 8 9]]]\n",
      "(2, 1, 5)\n"
     ]
    }
   ],
   "source": [
    "# [+] 배열 재구조화: 차원 추가(np.newaxis)\n",
    "arr_new = x[:, np.newaxis]\n",
    "print(arr_new)\n",
    "print(arr_new.shape)"
   ]
  },
  {
   "cell_type": "markdown",
   "metadata": {},
   "source": [
    "#### <strong> 배열 연결하기</strong>"
   ]
  },
  {
   "cell_type": "code",
   "execution_count": 30,
   "metadata": {},
   "outputs": [
    {
     "name": "stdout",
     "output_type": "stream",
     "text": [
      "[1 2 3] [4 5 6] [7 8 9]\n"
     ]
    }
   ],
   "source": [
    "# 세 개의 배열 생성\n",
    "arr_1 = np.arange(1, 4)\n",
    "arr_2 = np.arange(4, 7)\n",
    "arr_3 = np.arange(7, 10)\n",
    "\n",
    "print(arr_1, arr_2, arr_3)"
   ]
  },
  {
   "cell_type": "code",
   "execution_count": 31,
   "metadata": {},
   "outputs": [
    {
     "name": "stdout",
     "output_type": "stream",
     "text": [
      "[1 2 3 4 5 6 7 8 9]\n"
     ]
    }
   ],
   "source": [
    "# [+] 배열 연결: np.concatenate()\n",
    "arr_total = np.concatenate([arr_1, arr_2, arr_3])\n",
    "print(arr_total)"
   ]
  },
  {
   "cell_type": "code",
   "execution_count": 32,
   "metadata": {},
   "outputs": [
    {
     "data": {
      "text/plain": [
       "array([[1, 2, 3],\n",
       "       [4, 5, 6],\n",
       "       [7, 8, 9]])"
      ]
     },
     "execution_count": 32,
     "metadata": {},
     "output_type": "execute_result"
    }
   ],
   "source": [
    "# [+] 배열 연결: 종연결\n",
    "arr_total = np.vstack([arr_1, arr_2, arr_3])\n",
    "\n",
    "arr_total"
   ]
  },
  {
   "cell_type": "code",
   "execution_count": 33,
   "metadata": {},
   "outputs": [
    {
     "data": {
      "text/plain": [
       "array([1, 2, 3, 4, 5, 6, 7, 8, 9])"
      ]
     },
     "execution_count": 33,
     "metadata": {},
     "output_type": "execute_result"
    }
   ],
   "source": [
    "# [+] 배열 연결: 횡연결\n",
    "arr_total = np.hstack([arr_1, arr_2, arr_3])\n",
    "\n",
    "arr_total"
   ]
  },
  {
   "cell_type": "code",
   "execution_count": 34,
   "metadata": {},
   "outputs": [
    {
     "name": "stdout",
     "output_type": "stream",
     "text": [
      "[1, 2, 3, 99, 99, 3, 2, 1]\n",
      "[1 2 3] [99 99] [3 2 1]\n"
     ]
    }
   ],
   "source": [
    "arr = [1, 2, 3, 99, 99, 3, 2, 1]\n",
    "print(arr)\n",
    "\n",
    "# [+] 배열 분할 [1,2,3], [99,99], [3,2,1]\n",
    "arr_1, arr_2, arr_3 = np.split(arr, [3, 5])  \n",
    "print(arr_1, arr_2, arr_3)"
   ]
  }
 ],
 "metadata": {
  "kernelspec": {
   "display_name": "Python 3 (ipykernel)",
   "language": "python",
   "name": "python3"
  },
  "language_info": {
   "codemirror_mode": {
    "name": "ipython",
    "version": 3
   },
   "file_extension": ".py",
   "mimetype": "text/x-python",
   "name": "python",
   "nbconvert_exporter": "python",
   "pygments_lexer": "ipython3",
   "version": "3.11.4"
  }
 },
 "nbformat": 4,
 "nbformat_minor": 4
}
